{
 "cells": [
  {
   "cell_type": "code",
   "execution_count": 6,
   "id": "4803b42d-2d28-4f70-83b4-71d459702080",
   "metadata": {
    "tags": []
   },
   "outputs": [],
   "source": [
    "import pandas as pd"
   ]
  },
  {
   "cell_type": "code",
   "execution_count": 13,
   "id": "41ac32d5-f277-4d9d-88b5-c1012a9f8891",
   "metadata": {
    "tags": []
   },
   "outputs": [],
   "source": [
    "df = pd.read_csv('https://raw.githubusercontent.com/atlantico-academy/datasets/refs/heads/main/tips.csv')\n",
    "df = df.to_csv('../data/raw.csv')"
   ]
  },
  {
   "cell_type": "code",
   "execution_count": 17,
   "id": "e0789ee7-dbb6-4d72-a0a2-2961ec095f5d",
   "metadata": {
    "tags": []
   },
   "outputs": [
    {
     "name": "stdout",
     "output_type": "stream",
     "text": [
      "{'total_bill': 16.99, 'tip': 1.01, 'sex': 'Female', 'smoker': 'No', 'day': 'Sun', 'time': 'Dinner', 'size': 2}\n",
      "{'total_bill': 10.34, 'tip': 1.66, 'sex': 'Male', 'smoker': 'No', 'day': 'Sun', 'time': 'Dinner', 'size': 3}\n",
      "{'total_bill': 21.01, 'tip': 3.5, 'sex': 'Male', 'smoker': 'No', 'day': 'Sun', 'time': 'Dinner', 'size': 3}\n",
      "{'total_bill': 23.68, 'tip': 3.31, 'sex': 'Male', 'smoker': 'No', 'day': 'Sun', 'time': 'Dinner', 'size': 2}\n",
      "{'total_bill': 24.59, 'tip': 3.61, 'sex': 'Female', 'smoker': 'No', 'day': 'Sun', 'time': 'Dinner', 'size': 4}\n"
     ]
    }
   ],
   "source": [
    "import pandas as pd\n",
    "\n",
    "# Carregar o CSV diretamente da URL\n",
    "url = \"https://raw.githubusercontent.com/atlantico-academy/datasets/refs/heads/main/tips.csv\"\n",
    "df = pd.read_csv(url)\n",
    "\n",
    "# Convertendo o DataFrame para um dicionário\n",
    "dados_dict = df.to_dict(orient=\"records\")\n",
    "\n",
    "# Exibindo os primeiros 5 registros do dicionário\n",
    "for registro in dados_dict[:5]:\n",
    "    print(registro)\n",
    "    \n",
    "# Corrigindo o erro de sintaxe e salvando o dicionário de dados\n",
    "df.to_csv(\"../data/external/dictionary.csv\", index=False)"
   ]
  },
  {
   "cell_type": "code",
   "execution_count": null,
   "id": "aa648f7e-2437-49bb-9618-688397357f96",
   "metadata": {},
   "outputs": [],
   "source": []
  }
 ],
 "metadata": {
  "kernelspec": {
   "display_name": "Python 3 (ipykernel)",
   "language": "python",
   "name": "python3"
  },
  "language_info": {
   "codemirror_mode": {
    "name": "ipython",
    "version": 3
   },
   "file_extension": ".py",
   "mimetype": "text/x-python",
   "name": "python",
   "nbconvert_exporter": "python",
   "pygments_lexer": "ipython3",
   "version": "3.10.11"
  }
 },
 "nbformat": 4,
 "nbformat_minor": 5
}
